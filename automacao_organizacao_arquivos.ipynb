{
 "cells": [
  {
   "cell_type": "markdown",
   "id": "34cc611b",
   "metadata": {},
   "source": [
    "# Automação simples: Organização de arquivos em pastas\n",
    "Este notebook realiza uma automação simples para organizar arquivos em uma pasta, separando-os por tipo (PDF, Excel, Imagem, etc). "
   ]
  },
  {
   "cell_type": "markdown",
   "id": "f2e2811e",
   "metadata": {},
   "source": [
    "## Bibliotecas utilizadas"
   ]
  },
  {
   "cell_type": "code",
   "execution_count": null,
   "id": "34b31dae",
   "metadata": {},
   "outputs": [],
   "source": [
    "import os\n",
    "import shutil"
   ]
  },
  {
   "cell_type": "markdown",
   "id": "caa4f2f3",
   "metadata": {},
   "source": [
    "## Configuração do caminho da pasta\n",
    "Altere a variável abaixo para o caminho da pasta que deseja organizar."
   ]
  },
  {
   "cell_type": "markdown",
   "id": "820181b8",
   "metadata": {},
   "source": [
    "> **Observação importante sobre permissões no Windows**\n",
    ">\n",
    "> Para evitar erros de permissão (`PermissionError`), **NÃO utilize pastas do sistema como `C:\\Users\\seu_nome` diretamente**.  \n",
    "> Sempre escolha uma subpasta, como `Downloads`, `Documents` ou crie uma nova pasta específica para o script e cole os arquivos nela.\n",
    ">\n",
    "> Exemplo recomendado:  \n",
    "> `caminho_pasta = r\"C:\\Users\\SeuUser\\Downloads\\Nova pasta\"`\n",
    ">\n",
    "> Se necessário, crie a pasta manualmente antes de rodar o notebook."
   ]
  },
  {
   "cell_type": "code",
   "execution_count": null,
   "id": "615455c2",
   "metadata": {},
   "outputs": [],
   "source": [
    "# Exemplo: caminho_pasta = r\"C:\\Users\\SeuUsuario\\Downloads\"\n",
    "caminho_pasta = r\"CAMINHO\\DA\\SUA\\PASTA\""
   ]
  },
  {
   "cell_type": "markdown",
   "id": "8ac3b541",
   "metadata": {},
   "source": [
    "## Código de automação\n",
    "O código abaixo cria subpastas e move os arquivos de acordo com seus tipos."
   ]
  },
  {
   "cell_type": "code",
   "execution_count": null,
   "id": "c66bd54f",
   "metadata": {},
   "outputs": [],
   "source": [
    "tipos = {\n",
    "    \"PDFs\": [\".pdf\"],\n",
    "    \"Planilhas\": [\".xls\", \".xlsx\", \".csv\"],\n",
    "    \"Imagens\": [\".jpg\", \".jpeg\", \".png\", \".gif\"],\n",
    "    \"Documentos\": [\".doc\", \".docx\", \".txt\"],\n",
    "    \"Outros\": []\n",
    "}\n",
    "\n",
    "# Cria as subpastas, se não existirem\n",
    "for pasta in tipos.keys():\n",
    "    pasta_destino = os.path.join(caminho_pasta, pasta)\n",
    "    if not os.path.exists(pasta_destino):\n",
    "        os.makedirs(pasta_destino)\n",
    "\n",
    "# Move arquivos para as respectivas pastas\n",
    "for arquivo in os.listdir(caminho_pasta):\n",
    "    caminho_arquivo = os.path.join(caminho_pasta, arquivo)\n",
    "    if os.path.isfile(caminho_arquivo):\n",
    "        movido = False\n",
    "        for pasta, extensoes in tipos.items():\n",
    "            if any(arquivo.lower().endswith(ext) for ext in extensoes):\n",
    "                shutil.move(caminho_arquivo, os.path.join(caminho_pasta, pasta, arquivo))\n",
    "                movido = True\n",
    "                break\n",
    "        if not movido:\n",
    "            shutil.move(caminho_arquivo, os.path.join(caminho_pasta, \"Outros\", arquivo))\n",
    "\n",
    "print(\"Organização concluída!\")"
   ]
  },
  {
   "cell_type": "markdown",
   "id": "1970536d",
   "metadata": {},
   "source": [
    "## O que esse notebook faz?\n",
    "- Identifica o tipo de cada arquivo em uma pasta.\n",
    "- Move automaticamente para a subpasta correspondente.\n",
    "- Pode ser adaptado para outros tipos de arquivo ou critérios.\n",
    "\n",
    "**Próximos passos:**  \n",
    "- Agendar esse script para rodar automaticamente (ex: com Task Scheduler/Agendador de Tarefas ou cron no Linux).\n",
    "- Adicionar logs de execução.\n",
    "- Adaptar para integração com nuvem (Google Drive, OneDrive etc).\n",
    "\n",
    "---\n",
    "\n",
    "**Gostou? Adapte e contribua!**"
   ]
  }
 ],
 "metadata": {
  "kernelspec": {
   "display_name": "Python 3",
   "language": "python",
   "name": "python3"
  }
 },
 "nbformat": 4,
 "nbformat_minor": 5
}
